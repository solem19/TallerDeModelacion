{
 "cells": [
  {
   "cell_type": "code",
   "execution_count": 1,
   "id": "6628da5e",
   "metadata": {},
   "outputs": [],
   "source": [
    "import numpy as np\n",
    "import matplotlib.pyplot as plt\n",
    "#Las siguientes librerías son para comprobar que todo salga bien en el generador lineal congruencial\n",
    "import pandas as pd\n",
    "import seaborn as sns\n",
    "import time "
   ]
  },
  {
   "cell_type": "markdown",
   "id": "1e4177bd",
   "metadata": {},
   "source": [
    "# Generadores Lineales Congruenciales\n",
    "\n",
    "Los métodos más comunes para generar sucesiones de números aleatorios utilizan los llamados generadores lineales congruenciales que genera una sucesión determinística de números por medio de la fórmula recursiva:\n",
    "\n",
    "$$ X_{i+1}=(aX_i+c)(mod\\;m)$$\n",
    "\n",
    "donde el valor inicial $X_0$ es conocido como semilla y $a$, $c$ y $m$, todos enteros positivos, se llaman el multiplicador, el incremento y el módulo respectivamente.\n",
    "\n",
    "Si c=0 el generador se conoce como generador congruencial multiplicativo."
   ]
  },
  {
   "cell_type": "markdown",
   "id": "bb16aea7",
   "metadata": {},
   "source": [
    "### Definición\n",
    "Definimos la sucesión de valores $\\left\\lbrace U_i\\right\\rbrace_{i\\geq 1}$ como:\n",
    "$$U_i := \\frac{X_i}{m}$$\n",
    "\n",
    "\n",
    "Estos números son conocidos como números pseudoaleatorios (debido a que son generados de una forma determinista ). Resulta que dicha sucesión es una aproximación a una sucesión de variables aleatorias uniformes en el (0,1)"
   ]
  },
  {
   "cell_type": "markdown",
   "id": "3b6a2f88",
   "metadata": {},
   "source": [
    "Notemos que la sucesión sugerida se va a empezar a repetir a lo más a partir de $m$ pasos y que, por lo tanto, serán números periódicos con periodo no mayor a $m$. "
   ]
  },
  {
   "cell_type": "markdown",
   "id": "9a68bfd8",
   "metadata": {},
   "source": [
    "### Definición\n",
    "El periodo del generador se define como :\n",
    "$$k:= min \\left\\lbrace j\\geq 1 | X_i=X_{i+j}\\right\\rbrace$$\n",
    "\n",
    "\n",
    "### Ejemplo \n",
    "Sean $a=c=X_0=3$ y $m=5$. Entonces la sucesión obtenida de la fórmula recursiva\n",
    "$$X_{i+1}=(3X_i+3)(mod \\; 5)$$\n",
    "es 3,2,4,0,3 la cual tiene periodo $4$"
   ]
  },
  {
   "cell_type": "markdown",
   "id": "ef63f154",
   "metadata": {},
   "source": [
    "## Proposición\n",
    "Sea $a$ un natural. Un generador tiene periodo $m$ ssi se cumple que: \n",
    "\n",
    "1.- El máximo común divisor de $c$ y $m$ es 1.\n",
    "\n",
    "2.- $a\\equiv 1 \\, (mod\\; p) $ para todo  primo $p$ factor de $m$\n",
    "\n",
    "3.- $a\\equiv 1 \\, (mod\\; 4) $ en el caso de que $m$ sea un múltiplo de $4$\n",
    "\n",
    "Para las implementaciones en computadora, se escoge $m$ como un primo lo suficientemente grande que pueda ser soportado por la longitud de palabra en la computadora . Por ejemplo, en una compu con longitud de palabra de 32 bits se obtienen generadores bastante aceptables estadísticamente con $m=2^{31}-1$ y $a=7^5$. En este notebook usaremos esos valores como default además de $c=0$"
   ]
  },
  {
   "cell_type": "code",
   "execution_count": 2,
   "id": "eee1b8fa",
   "metadata": {},
   "outputs": [],
   "source": [
    "def uniforme01(size,semilla=None,a=7**5,m=(2**(31))-1,c=0):\n",
    "    #Utilizamos la semilla otorgada:\n",
    "    if semilla is None:\n",
    "        semilla= int(time.time_ns())\n",
    "    X0=semilla\n",
    "    #Inicializamos el lugar donde se guardarán los números aleatorios\n",
    "    U=[]\n",
    "    contador=len(U)\n",
    "    while len(U)< size:\n",
    "        X0=(a*X0+c)%m\n",
    "        U.append((X0/m))\n",
    "    return np.array(U)"
   ]
  },
  {
   "cell_type": "markdown",
   "id": "dd9a2728",
   "metadata": {},
   "source": [
    "Nótese que si el usuario no da una semilla, la función usa el tiempo de la computadora\n",
    "\n",
    "A continuación vemos cómo es de buena o mala la aproximación de la sucesión : "
   ]
  },
  {
   "cell_type": "code",
   "execution_count": 416,
   "id": "ac95056c",
   "metadata": {},
   "outputs": [],
   "source": [
    "dict={\"Info\":uniforme01(10000,22)}\n",
    "base=pd.DataFrame(dict)"
   ]
  },
  {
   "cell_type": "code",
   "execution_count": 417,
   "id": "85356e87",
   "metadata": {},
   "outputs": [
    {
     "data": {
      "text/plain": [
       "<AxesSubplot:ylabel='Density'>"
      ]
     },
     "execution_count": 417,
     "metadata": {},
     "output_type": "execute_result"
    },
    {
     "data": {
      "image/png": "[encoded data removed]",
      "text/plain": [
       "<Figure size 432x288 with 1 Axes>"
      ]
     },
     "metadata": {
      "needs_background": "light"
     },
     "output_type": "display_data"
    }
   ],
   "source": [
    "base.Info.plot.density(color=\"green\")"
   ]
  },
  {
   "cell_type": "markdown",
   "id": "4df07d7a",
   "metadata": {},
   "source": [
    "Ahora, para simular parejas ordenadas, primero simulamos las coordenadas X y luego las coordenadas Y. Nótese que estamos cuidando que la semilla cambie entre la generación de X y la de Y, porque necesitamos que sean generados con diferentes semillas o si no todos terminarán sobre la recta identidad."
   ]
  },
  {
   "cell_type": "code",
   "execution_count": 89,
   "id": "17484aa1",
   "metadata": {},
   "outputs": [],
   "source": [
    "#Simular N parejas ordenadas en un arreglo de X's vs Y's\n",
    "#def ParejasOrdenadas(N):\n",
    "#    X=[]\n",
    "#    Y=[]\n",
    "#    nano=int(time.time_ns())\n",
    "#    contador=1\n",
    "#    for i in range(0,N):\n",
    "#        X.append(uniforme01(1,semilla=(nano/contador)*np.exp(contador))[0])\n",
    "#        Y.append(uniforme01(1,semilla=(nano/contador)*np.log(contador))[0])\n",
    "#        nano=int(time.time_ns())\n",
    "#        contador=(contador+1)%400+1\n",
    "#    return X,Y\n",
    "\n",
    "def ParejasOrdenadas(N):\n",
    "    tiempo=time.time_ns()\n",
    "    X=uniforme01(N)\n",
    "    while (tiempo==time.time_ns()):\n",
    "        tiempo=tiempo\n",
    "    Y=uniforme01(N)\n",
    "    return X,Y"
   ]
  },
  {
   "cell_type": "markdown",
   "id": "41c88338",
   "metadata": {},
   "source": [
    "Hacemos el estimador de pi, donde lo que realmente estamos estimando es: \n",
    "$$\\frac{AreaCirculo}{AreaCuadrado}$$\n",
    "de ahí aún hay que hacer unos cálculos para estimar Pi: "
   ]
  },
  {
   "cell_type": "code",
   "execution_count": 90,
   "id": "99baae8b",
   "metadata": {},
   "outputs": [],
   "source": [
    "def EstimadorPi(X,Y):\n",
    "    Arreglo=[]\n",
    "    for i in range(0,len(X)): \n",
    "        aux=np.array([X[i],Y[i]])-np.array([0.5,0.5])\n",
    "        norma=np.linalg.norm(aux,ord=2)\n",
    "        #print(norma)\n",
    "        if norma<=0.5:\n",
    "            Arreglo.append(1)\n",
    "        else:\n",
    "            Arreglo.append(0)\n",
    "    return sum(Arreglo)/len(Arreglo)"
   ]
  },
  {
   "cell_type": "code",
   "execution_count": 91,
   "id": "0d77befc",
   "metadata": {},
   "outputs": [
    {
     "data": {
      "image/png": "[encoded data removed]",
      "text/plain": [
       "<Figure size 432x288 with 1 Axes>"
      ]
     },
     "metadata": {
      "needs_background": "light"
     },
     "output_type": "display_data"
    },
    {
     "data": {
      "text/plain": [
       "3.14944"
      ]
     },
     "execution_count": 91,
     "metadata": {},
     "output_type": "execute_result"
    }
   ],
   "source": [
    "X,Y=ParejasOrdenadas(100000)\n",
    "plt.plot(X,Y,'o')\n",
    "plt.show()\n",
    "EstimadorPi(X,Y)/(0.5**2)"
   ]
  },
  {
   "cell_type": "markdown",
   "id": "c4693906",
   "metadata": {},
   "source": [
    "Ahora usamos Monte Carlo que nos dice que: \n",
    "$$E(g(X))=\\int_{sop(X)}g(x)f(x)dx\\approx \\frac{1}{n}\\sum_{i=1}^{n} g(X_i)$$\n",
    "donde $\\left\\lbrace X_i\\right\\rbrace_{i\\leq N}$ es una muestra aleatoria de la densidad $f(x)$ .\n",
    "Lo usamos en las funciones:\n",
    "\n",
    "1.- $f(x)=e^{-x^2}$\n",
    "\n",
    "\n",
    "2.- $g(x)=x^3 -6x^2$"
   ]
  },
  {
   "cell_type": "code",
   "execution_count": 92,
   "id": "f942f321",
   "metadata": {},
   "outputs": [],
   "source": [
    "#Estimar integrales en intervalos y método Monte Carlo: \n",
    "def Estimacion(N,f=lambda x: np.exp(-x**2)):\n",
    "    Dominio=2*uniforme01(N)\n",
    "    return sum(f(Dominio))/N"
   ]
  },
  {
   "cell_type": "code",
   "execution_count": 94,
   "id": "3139e6a6",
   "metadata": {},
   "outputs": [
    {
     "data": {
      "text/plain": [
       "0.44243993365144196"
      ]
     },
     "execution_count": 94,
     "metadata": {},
     "output_type": "execute_result"
    }
   ],
   "source": [
    "Estimacion(100000)"
   ]
  },
  {
   "cell_type": "code",
   "execution_count": 93,
   "id": "75cd4954",
   "metadata": {},
   "outputs": [
    {
     "data": {
      "text/plain": [
       "-12.011094661209873"
      ]
     },
     "execution_count": 93,
     "metadata": {},
     "output_type": "execute_result"
    }
   ],
   "source": [
    "Estimacion(100000,f=lambda x: ((x**3)-((6)*(x**2))) )*2"
   ]
  }
 ],
 "metadata": {
  "kernelspec": {
   "display_name": "Python 3 (ipykernel)",
   "language": "python",
   "name": "python3"
  },
  "language_info": {
   "codemirror_mode": {
    "name": "ipython",
    "version": 3
   },
   "file_extension": ".py",
   "mimetype": "text/x-python",
   "name": "python",
   "nbconvert_exporter": "python",
   "pygments_lexer": "ipython3",
   "version": "3.9.12"
  }
 },
 "nbformat": 4,
 "nbformat_minor": 5
}
