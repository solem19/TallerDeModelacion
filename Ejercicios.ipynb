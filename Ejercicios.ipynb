{
 "cells": [
  {
   "cell_type": "code",
   "execution_count": 5,
   "id": "ead805a1",
   "metadata": {},
   "outputs": [],
   "source": [
    "import numpy as np\n",
    "import matplotlib.pyplot as plt\n",
    "import pandas as pd\n",
    "\n",
    "E= lambda a,m,b: (a+4*m+b)/6\n",
    "S=lambda b,a: ((b-a)/6)**2"
   ]
  },
  {
   "cell_type": "code",
   "execution_count": 4,
   "id": "29a48c27",
   "metadata": {},
   "outputs": [],
   "source": [
    "TSemanas=[ [2,3,10],[10,12,20],[10,14,13],[7,10,12],[14,20,26],[3,5,7],[8,12,20],[1,1,1],[6,10,12],[1,3,5] ]"
   ]
  },
  {
   "cell_type": "code",
   "execution_count": 8,
   "id": "051af2e7",
   "metadata": {},
   "outputs": [],
   "source": [
    "Esp=[]\n",
    "Vars=[]\n",
    "for i in range(len(TSemanas)):\n",
    "    Esp.append( E(TSemanas[i][0],TSemanas[i][1],TSemanas[i][2]) )\n",
    "    Vars.append(S(TSemanas[i][2],TSemanas[i][0]))\n",
    "    "
   ]
  },
  {
   "cell_type": "code",
   "execution_count": 30,
   "id": "2ba2485c",
   "metadata": {},
   "outputs": [
    {
     "data": {
      "text/plain": [
       "2.836832573067901"
      ]
     },
     "execution_count": 30,
     "metadata": {},
     "output_type": "execute_result"
    }
   ],
   "source": [
    "ECP=Esp[2]+Esp[6]+Esp[8]\n",
    "VCP=Vars[2]+Vars[6]+Vars[8]\n",
    "(42-ECP)/np.sqrt(VCP)"
   ]
  },
  {
   "cell_type": "code",
   "execution_count": 31,
   "id": "cd593fd1",
   "metadata": {},
   "outputs": [
    {
     "data": {
      "text/plain": [
       "2.8260869565217392"
      ]
     },
     "execution_count": 31,
     "metadata": {},
     "output_type": "execute_result"
    }
   ],
   "source": [
    "#Actividad 13"
   ]
  },
  {
   "cell_type": "code",
   "execution_count": 117,
   "id": "922e047b",
   "metadata": {},
   "outputs": [],
   "source": [
    "def Promedios_moviles(Lista,periodo,errores=True,errorescuadraticos=True):\n",
    "    Lista2=Lista.copy()\n",
    "    Lista2.append(0)\n",
    "    Promedios=[]\n",
    "    for i in range(periodo-1,len(Lista)):\n",
    "        suma=0\n",
    "        for j in range(periodo):\n",
    "            suma=suma+Lista[i-j]\n",
    "        #Promedios.append(round(suma/periodo,2) )\n",
    "        Promedios.append(suma/periodo )\n",
    "    Añadir=[0]*(periodo-1)\n",
    "    Añadir.extend(Promedios)\n",
    "    Promedios=Añadir.copy()\n",
    "    Pronosticos=[0]\n",
    "    Pronosticos.extend(Promedios)\n",
    "    Promedios.append(0)\n",
    "    Datos=[Lista2,Promedios,Pronosticos]\n",
    "    Columnas=['Numero de accidentes','Promedio móvil de {} términos'.format(periodo),'Pronósticos']\n",
    "    if errores:\n",
    "        Errores=[]\n",
    "        Erroresva=[]\n",
    "        for i in range(0,len(Lista2)):\n",
    "            if i<=(periodo-1) or i==len(Lista):\n",
    "                Errores.append(0)\n",
    "                Erroresva.append(0)\n",
    "            else:\n",
    "                Errores.append(Lista2[i]-Pronosticos[i])\n",
    "                Erroresva.append(abs(Errores[-1]))\n",
    "        Datos.append(Errores)\n",
    "        Datos.append(Erroresva)\n",
    "        Columnas.append('Errores')\n",
    "        Columnas.append('Errores valor absoluto')\n",
    "        \n",
    "    if errorescuadraticos:\n",
    "        ErroresC=[]\n",
    "        for i in range(0,len(Errores)):\n",
    "            ErroresC.append(Errores[i]**2)\n",
    "        Datos.append(ErroresC)    \n",
    "        Columnas.append('Errores Cuadraticos')\n",
    "    Ret=pd.DataFrame(Datos)\n",
    "    Ret2=Ret.transpose()\n",
    "    Ret2.columns=Columnas\n",
    "    ponderador=len(Lista)-periodo\n",
    "    return Ret2,ponderador\n"
   ]
  },
  {
   "cell_type": "code",
   "execution_count": 118,
   "id": "6c064729",
   "metadata": {},
   "outputs": [
    {
     "data": {
      "text/plain": [
       "64.0"
      ]
     },
     "execution_count": 118,
     "metadata": {},
     "output_type": "execute_result"
    }
   ],
   "source": [
    "Accidentes=[200,135,195,198,310,175,155,130,220,277,235,240]\n",
    "Proms,n=Promedios_moviles(Accidentes,3)\n",
    "Proms['Errores valor absoluto'].sum()/n"
   ]
  },
  {
   "cell_type": "code",
   "execution_count": 139,
   "id": "7543fcc0",
   "metadata": {},
   "outputs": [
    {
     "data": {
      "text/html": [
       "<div>\n",
       "<style scoped>\n",
       "    .dataframe tbody tr th:only-of-type {\n",
       "        vertical-align: middle;\n",
       "    }\n",
       "\n",
       "    .dataframe tbody tr th {\n",
       "        vertical-align: top;\n",
       "    }\n",
       "\n",
       "    .dataframe thead th {\n",
       "        text-align: right;\n",
       "    }\n",
       "</style>\n",
       "<table border=\"1\" class=\"dataframe\">\n",
       "  <thead>\n",
       "    <tr style=\"text-align: right;\">\n",
       "      <th></th>\n",
       "      <th>Numero de accidentes</th>\n",
       "      <th>Promedio móvil de 5 términos</th>\n",
       "      <th>Pronósticos</th>\n",
       "      <th>Errores</th>\n",
       "      <th>Errores valor absoluto</th>\n",
       "      <th>Errores Cuadraticos</th>\n",
       "    </tr>\n",
       "  </thead>\n",
       "  <tbody>\n",
       "    <tr>\n",
       "      <th>0</th>\n",
       "      <td>200.0</td>\n",
       "      <td>0.0</td>\n",
       "      <td>0.0</td>\n",
       "      <td>0.0</td>\n",
       "      <td>0.0</td>\n",
       "      <td>0.00</td>\n",
       "    </tr>\n",
       "    <tr>\n",
       "      <th>1</th>\n",
       "      <td>135.0</td>\n",
       "      <td>0.0</td>\n",
       "      <td>0.0</td>\n",
       "      <td>0.0</td>\n",
       "      <td>0.0</td>\n",
       "      <td>0.00</td>\n",
       "    </tr>\n",
       "    <tr>\n",
       "      <th>2</th>\n",
       "      <td>195.0</td>\n",
       "      <td>0.0</td>\n",
       "      <td>0.0</td>\n",
       "      <td>0.0</td>\n",
       "      <td>0.0</td>\n",
       "      <td>0.00</td>\n",
       "    </tr>\n",
       "    <tr>\n",
       "      <th>3</th>\n",
       "      <td>198.0</td>\n",
       "      <td>0.0</td>\n",
       "      <td>0.0</td>\n",
       "      <td>0.0</td>\n",
       "      <td>0.0</td>\n",
       "      <td>0.00</td>\n",
       "    </tr>\n",
       "    <tr>\n",
       "      <th>4</th>\n",
       "      <td>310.0</td>\n",
       "      <td>207.6</td>\n",
       "      <td>0.0</td>\n",
       "      <td>0.0</td>\n",
       "      <td>0.0</td>\n",
       "      <td>0.00</td>\n",
       "    </tr>\n",
       "    <tr>\n",
       "      <th>5</th>\n",
       "      <td>175.0</td>\n",
       "      <td>202.6</td>\n",
       "      <td>207.6</td>\n",
       "      <td>-32.6</td>\n",
       "      <td>32.6</td>\n",
       "      <td>1062.76</td>\n",
       "    </tr>\n",
       "    <tr>\n",
       "      <th>6</th>\n",
       "      <td>155.0</td>\n",
       "      <td>206.6</td>\n",
       "      <td>202.6</td>\n",
       "      <td>-47.6</td>\n",
       "      <td>47.6</td>\n",
       "      <td>2265.76</td>\n",
       "    </tr>\n",
       "    <tr>\n",
       "      <th>7</th>\n",
       "      <td>130.0</td>\n",
       "      <td>193.6</td>\n",
       "      <td>206.6</td>\n",
       "      <td>-76.6</td>\n",
       "      <td>76.6</td>\n",
       "      <td>5867.56</td>\n",
       "    </tr>\n",
       "    <tr>\n",
       "      <th>8</th>\n",
       "      <td>220.0</td>\n",
       "      <td>198.0</td>\n",
       "      <td>193.6</td>\n",
       "      <td>26.4</td>\n",
       "      <td>26.4</td>\n",
       "      <td>696.96</td>\n",
       "    </tr>\n",
       "    <tr>\n",
       "      <th>9</th>\n",
       "      <td>277.0</td>\n",
       "      <td>191.4</td>\n",
       "      <td>198.0</td>\n",
       "      <td>79.0</td>\n",
       "      <td>79.0</td>\n",
       "      <td>6241.00</td>\n",
       "    </tr>\n",
       "    <tr>\n",
       "      <th>10</th>\n",
       "      <td>235.0</td>\n",
       "      <td>203.4</td>\n",
       "      <td>191.4</td>\n",
       "      <td>43.6</td>\n",
       "      <td>43.6</td>\n",
       "      <td>1900.96</td>\n",
       "    </tr>\n",
       "    <tr>\n",
       "      <th>11</th>\n",
       "      <td>240.0</td>\n",
       "      <td>220.4</td>\n",
       "      <td>203.4</td>\n",
       "      <td>36.6</td>\n",
       "      <td>36.6</td>\n",
       "      <td>1339.56</td>\n",
       "    </tr>\n",
       "    <tr>\n",
       "      <th>12</th>\n",
       "      <td>0.0</td>\n",
       "      <td>0.0</td>\n",
       "      <td>220.4</td>\n",
       "      <td>0.0</td>\n",
       "      <td>0.0</td>\n",
       "      <td>0.00</td>\n",
       "    </tr>\n",
       "  </tbody>\n",
       "</table>\n",
       "</div>"
      ],
      "text/plain": [
       "    Numero de accidentes  Promedio móvil de 5 términos  Pronósticos  Errores  \\\n",
       "0                  200.0                           0.0          0.0      0.0   \n",
       "1                  135.0                           0.0          0.0      0.0   \n",
       "2                  195.0                           0.0          0.0      0.0   \n",
       "3                  198.0                           0.0          0.0      0.0   \n",
       "4                  310.0                         207.6          0.0      0.0   \n",
       "5                  175.0                         202.6        207.6    -32.6   \n",
       "6                  155.0                         206.6        202.6    -47.6   \n",
       "7                  130.0                         193.6        206.6    -76.6   \n",
       "8                  220.0                         198.0        193.6     26.4   \n",
       "9                  277.0                         191.4        198.0     79.0   \n",
       "10                 235.0                         203.4        191.4     43.6   \n",
       "11                 240.0                         220.4        203.4     36.6   \n",
       "12                   0.0                           0.0        220.4      0.0   \n",
       "\n",
       "    Errores valor absoluto  Errores Cuadraticos  \n",
       "0                      0.0                 0.00  \n",
       "1                      0.0                 0.00  \n",
       "2                      0.0                 0.00  \n",
       "3                      0.0                 0.00  \n",
       "4                      0.0                 0.00  \n",
       "5                     32.6              1062.76  \n",
       "6                     47.6              2265.76  \n",
       "7                     76.6              5867.56  \n",
       "8                     26.4               696.96  \n",
       "9                     79.0              6241.00  \n",
       "10                    43.6              1900.96  \n",
       "11                    36.6              1339.56  \n",
       "12                     0.0                 0.00  "
      ]
     },
     "execution_count": 139,
     "metadata": {},
     "output_type": "execute_result"
    }
   ],
   "source": [
    "Proms,n=Promedios_moviles(Accidentes,5)\n",
    "#Proms[['Numero de accidentes','Promedio móvil de 5 términos']]\n",
    "#Proms['Errores valor absoluto'].sum()/n\n",
    "Proms"
   ]
  },
  {
   "cell_type": "code",
   "execution_count": 166,
   "id": "661a0db0",
   "metadata": {},
   "outputs": [
    {
     "data": {
      "text/html": [
       "<div>\n",
       "<style scoped>\n",
       "    .dataframe tbody tr th:only-of-type {\n",
       "        vertical-align: middle;\n",
       "    }\n",
       "\n",
       "    .dataframe tbody tr th {\n",
       "        vertical-align: top;\n",
       "    }\n",
       "\n",
       "    .dataframe thead th {\n",
       "        text-align: right;\n",
       "    }\n",
       "</style>\n",
       "<table border=\"1\" class=\"dataframe\">\n",
       "  <thead>\n",
       "    <tr style=\"text-align: right;\">\n",
       "      <th></th>\n",
       "      <th>Numero de accidentes</th>\n",
       "      <th>Promedio móvil de 5 términos</th>\n",
       "    </tr>\n",
       "  </thead>\n",
       "  <tbody>\n",
       "    <tr>\n",
       "      <th>0</th>\n",
       "      <td>17.0</td>\n",
       "      <td>0.0</td>\n",
       "    </tr>\n",
       "    <tr>\n",
       "      <th>1</th>\n",
       "      <td>21.0</td>\n",
       "      <td>0.0</td>\n",
       "    </tr>\n",
       "    <tr>\n",
       "      <th>2</th>\n",
       "      <td>19.0</td>\n",
       "      <td>0.0</td>\n",
       "    </tr>\n",
       "    <tr>\n",
       "      <th>3</th>\n",
       "      <td>23.0</td>\n",
       "      <td>0.0</td>\n",
       "    </tr>\n",
       "    <tr>\n",
       "      <th>4</th>\n",
       "      <td>18.0</td>\n",
       "      <td>19.6</td>\n",
       "    </tr>\n",
       "    <tr>\n",
       "      <th>5</th>\n",
       "      <td>16.0</td>\n",
       "      <td>19.4</td>\n",
       "    </tr>\n",
       "    <tr>\n",
       "      <th>6</th>\n",
       "      <td>20.0</td>\n",
       "      <td>19.2</td>\n",
       "    </tr>\n",
       "    <tr>\n",
       "      <th>7</th>\n",
       "      <td>18.0</td>\n",
       "      <td>19.0</td>\n",
       "    </tr>\n",
       "    <tr>\n",
       "      <th>8</th>\n",
       "      <td>22.0</td>\n",
       "      <td>18.8</td>\n",
       "    </tr>\n",
       "    <tr>\n",
       "      <th>9</th>\n",
       "      <td>20.0</td>\n",
       "      <td>19.2</td>\n",
       "    </tr>\n",
       "    <tr>\n",
       "      <th>10</th>\n",
       "      <td>15.0</td>\n",
       "      <td>19.0</td>\n",
       "    </tr>\n",
       "    <tr>\n",
       "      <th>11</th>\n",
       "      <td>22.0</td>\n",
       "      <td>19.4</td>\n",
       "    </tr>\n",
       "    <tr>\n",
       "      <th>12</th>\n",
       "      <td>0.0</td>\n",
       "      <td>0.0</td>\n",
       "    </tr>\n",
       "  </tbody>\n",
       "</table>\n",
       "</div>"
      ],
      "text/plain": [
       "    Numero de accidentes  Promedio móvil de 5 términos\n",
       "0                   17.0                           0.0\n",
       "1                   21.0                           0.0\n",
       "2                   19.0                           0.0\n",
       "3                   23.0                           0.0\n",
       "4                   18.0                          19.6\n",
       "5                   16.0                          19.4\n",
       "6                   20.0                          19.2\n",
       "7                   18.0                          19.0\n",
       "8                   22.0                          18.8\n",
       "9                   20.0                          19.2\n",
       "10                  15.0                          19.0\n",
       "11                  22.0                          19.4\n",
       "12                   0.0                           0.0"
      ]
     },
     "execution_count": 166,
     "metadata": {},
     "output_type": "execute_result"
    }
   ],
   "source": [
    "accidentes2=[17,21,19,23,18,16,20,18,22,20,15,22]\n",
    "Promeds,m=Promedios_moviles(accidentes2,5)\n",
    "#Promeds['Errores valor absoluto'].sum()/m\n",
    "Promeds[['Numero de accidentes','Promedio móvil de 5 términos']]\n",
    "#Promeds\n"
   ]
  },
  {
   "cell_type": "code",
   "execution_count": 170,
   "id": "42555490",
   "metadata": {
    "scrolled": true
   },
   "outputs": [],
   "source": [
    "accidentes2=[17,21,19,23,18,16,20,18,22,20,15,22]\n",
    "Promeds2,m2=Promedios_moviles(accidentes2,4)\n",
    "#Promeds2['Errores valor absoluto'].sum()/m2\n",
    "Jiji=Promeds2.loc[0:,['Numero de accidentes','Promedio móvil de 4 términos','Pronósticos','Errores','Errores Cuadraticos']]\n",
    "Jiji.index.name='Semanas Periodo'\n",
    "Jiji.index=pd.Series(list(range(1,14)))\n",
    "Jiji.index.name='Semanas Periodo'\n"
   ]
  },
  {
   "cell_type": "code",
   "execution_count": 178,
   "id": "6c820e0b",
   "metadata": {},
   "outputs": [
    {
     "data": {
      "text/plain": [
       "9.6484375"
      ]
     },
     "execution_count": 178,
     "metadata": {},
     "output_type": "execute_result"
    }
   ],
   "source": [
    "Jiji['Errores Cuadraticos'].sum()/m2"
   ]
  },
  {
   "cell_type": "code",
   "execution_count": 174,
   "id": "f1ca7c5a",
   "metadata": {},
   "outputs": [],
   "source": [
    "accidentes2=[17,21,19,23,18,16,20,18,22,20,15,22]\n",
    "Promeds2,m2=Promedios_moviles(accidentes2,4)\n",
    "#Promeds2['Errores valor absoluto'].sum()/m2\n",
    "Jiji2=Promeds.loc[:,['Numero de accidentes','Promedio móvil de 5 términos','Pronósticos','Errores','Errores Cuadraticos']]\n",
    "Jiji2.index.name='Semanas Periodo'\n",
    "Jiji2.index=pd.Series(list(range(1,14)))\n",
    "Jiji2.index.name='Semanas Periodo'"
   ]
  },
  {
   "cell_type": "code",
   "execution_count": 182,
   "id": "267f682d",
   "metadata": {},
   "outputs": [
    {
     "data": {
      "text/plain": [
       "7.405714285714287"
      ]
     },
     "execution_count": 182,
     "metadata": {},
     "output_type": "execute_result"
    }
   ],
   "source": [
    "Jiji2['Errores Cuadraticos'].sum()/m"
   ]
  }
 ],
 "metadata": {
  "kernelspec": {
   "display_name": "Python 3 (ipykernel)",
   "language": "python",
   "name": "python3"
  },
  "language_info": {
   "codemirror_mode": {
    "name": "ipython",
    "version": 3
   },
   "file_extension": ".py",
   "mimetype": "text/x-python",
   "name": "python",
   "nbconvert_exporter": "python",
   "pygments_lexer": "ipython3",
   "version": "3.9.12"
  }
 },
 "nbformat": 4,
 "nbformat_minor": 5
}
